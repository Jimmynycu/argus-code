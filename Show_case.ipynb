{
 "cells": [
  {
   "cell_type": "markdown",
   "metadata": {},
   "source": [
    "# 🚀 Showcase: 2D to 360° Video Generation (Final, Bulletproof Version)"
   ]
  },
  {
   "cell_type": "markdown",
   "metadata": {},
   "source": [
    "This notebook provides a comprehensive and robust showcase for the 'Beyond the Frame' project. It has been completely redesigned to be as reliable as possible, with verification at every step.\n\n### **Instructions**\n\n1.  **Read Each Step Carefully:** Follow the instructions in the markdown cells. Do not skip steps.\n2.  **GPU Runtime:** Ensure your runtime is set to use a GPU (`Runtime` > `Change runtime type` > `T4 GPU`).\n3.  **Run Cells in Order:** Execute each cell from top to bottom."
   ]
  },
  {
   "cell_type": "markdown",
   "metadata": {},
   "source": [
    "### **Step 0: Factory Reset (Optional but Recommended)**\n\nIf you have run this notebook before, running the cell below will delete the old `argus-code` directory. This prevents pathing conflicts and ensures a clean setup."
   ]
  },
  {
   "cell_type": "code",
   "execution_count": null,
   "metadata": {},
   "outputs": [],
   "source": [
    "print('Cleaning up previous runs...')\n",
    "!rm -rf argus-code\n",
    "print('✅ Cleanup complete.')"
   ]
  },
  {
   "cell_type": "markdown",
   "metadata": {},
   "source": [
    "### **Step 1: Install Conda & Restart Kernel**\n\n⚠️ **CRITICAL STEP** ⚠️\n\nRunning the cell below will install `conda` and **automatically restart the Colab kernel.** This is expected and necessary.\n\n**After the kernel restarts, you must continue running the cells from Step 2.**"
   ]
  },
  {
   "cell_type": "code",
   "execution_count": null,
   "metadata": {},
   "outputs": [],
   "source": [
    "!pip install -q condacolab\n",
    "import condacolab\n",
    "condacolab.install()"
   ]
  },
  {
   "cell_type": "markdown",
   "metadata": {},
   "source": [
    "--- \n",
    "### **Step 2: Full Setup & Verification (Run This After Kernel Restart)**\n\n**IMPORTANT:** Run this single cell *after* the kernel has restarted from Step 1. \n\nThis cell will perform the entire setup and **verify every single step.** If any step fails, it will print a `FATAL` error and stop execution."
   ]
  },
  {
   "cell_type": "code",
   "execution_count": null,
   "metadata": {},
   "outputs": [],
   "source": [
    "import os\n",
    "import sys\n",
    "import subprocess\n",
    "\n",
    "def run_and_verify(command, check_path=None, failure_message=''):\n",
    "    print(f'--- Running: {failure_message} ---')\n",
    "    result = subprocess.run(command, shell=True, capture_output=True, text=True)\n",
    "    if result.returncode != 0:\n",
    "        print(f'❌ FATAL: {failure_message} failed.')\n",
    "        print(f'--- STDOUT ---\\n{result.stdout}')\n",
    "        print(f'--- STDERR ---\\n{result.stderr}')\n",
    "        sys.exit(1)\n",
    "    if check_path and not os.path.exists(check_path):\n",
    "        print(f'❌ FATAL: Verification failed. Expected path does not exist: {check_path}')\n",
    "        sys.exit(1)\n",
    "    print(f'✅ {failure_message} successful.')\n",
    "\n",
    "# --- Step 2.1: Clone Repository ---\n",
    "run_and_verify('git clone --recurse-submodules https://github.com/Red-Fairy/argus-code', \n",
    "                 check_path='argus-code', \n",
    "                 failure_message='Cloning repository')\n",
    "os.chdir('argus-code')\n",
    "\n",
    "# --- Step 2.2: Install Dependencies ---\n",
    "run_and_verify('conda install -y -c pytorch -c nvidia faiss-gpu=1.8.0 cython', \n",
    "                 failure_message='Conda installation')\n",
    "run_and_verify('pip install -q -r requirements.txt', \n",
    "                 failure_message='Pip requirements installation')\n",
    "run_and_verify('pip install -q yt-dlp', \n",
    "                 failure_message='Pip yt-dlp installation')\n",
    "\n",
    "# --- Step 2.3: Compile ASMK ---\n",
    "run_and_verify('git clone https://github.com/jenicek/asmk', \n",
    "                 check_path='asmk', \n",
    "                 failure_message='Cloning ASMK')\n",
    "os.chdir('asmk/cython/')\n",
    "run_and_verify('cythonize *.pyx', \n",
    "                 failure_message='Cythonizing ASMK')\n",
    "os.chdir('..')\n",
    "run_and_verify('pip install .', \n",
    "                 failure_message='Installing ASMK')\n",
    "os.chdir('..')\n",
    "\n",
    "# --- Step 2.4: Download Models ---\n",
    "os.makedirs('checkpoints', exist_ok=True)\n",
    "run_and_verify('wget -q https://files.catbox.moe/t53m9y.zip -O checkpoints/pretrained-weights.zip', \n",
    "                 check_path='checkpoints/pretrained-weights.zip', \n",
    "                 failure_message='Downloading main model')\n",
    "\n",
    "os.makedirs('mega-sam/Depth-Anything/checkpoints', exist_ok=True)\n",
    "run_and_verify('wget -q https://huggingface.co/spaces/LiheYoung/Depth-Anything/resolve/main/checkpoints/depth_anything_vitl14.pth -O mega-sam/Depth-Anything/checkpoints/depth_anything_vitl14.pth', \n",
    "                 check_path='mega-sam/Depth-Anything/checkpoints/depth_anything_vitl14.pth', \n",
    "                 failure_message='Downloading DepthAnything model')\n",
    "\n",
    "os.makedirs('mega-sam/cvd_opt', exist_ok=True)\n",
    "run_and_verify('wget -q https://huggingface.co/ddrfan/RAFT/resolve/bfb9a87633743408b9c13c20b9ed43dbe5b83617/raft-things.pth -O mega-sam/cvd_opt/raft-things.pth', \n",
    "                 check_path='mega-sam/cvd_opt/raft-things.pth', \n",
    "                 failure_message='Downloading RAFT model')\n",
    "\n",
    "# --- Step 2.5: Unzip and Verify Final Files ---\n",
    "run_and_verify('unzip -q checkpoints/pretrained-weights.zip -d checkpoints/', \n",
    "                 failure_message='Unzipping main model')\n",
    "\n",
    "files_to_check = [\n",
    "    'checkpoints/pretrained-weights/unet/diffusion_pytorch_model.safetensors',\n",
    "    'mega-sam/Depth-Anything/checkpoints/depth_anything_vitl14.pth',\n",
    "    'mega-sam/cvd_opt/raft-things.pth'\n",
    "]\n",
    "for f in files_to_check:\n",
    "    run_and_verify('', check_path=f, failure_message=f'Verifying final file: {f}')\n",
    "\n",
    "print('\\n--- ✅✅✅ SETUP COMPLETE AND FULLY VERIFIED ✅✅✅ ---')"
   ]
  },
  {
   "cell_type": "markdown",
   "metadata": {},
   "source": [
    "### **Step 3: Choose Your Demo**\n\n**Important:** Only run the cells for the option you want to use."
   ]
  },
  {
   "cell_type": "markdown",
   "metadata": {},
   "source": [
    "---"
   ]
  },
  {
   "cell_type": "markdown",
   "metadata": {},
   "source": [
    "#### Option 1: Interactive Demo (Gradio Web UI)\n\nRun the cell below to launch a Gradio web interface. A public URL will be generated. Click it to open the demo in a new tab, where you can upload your own video for processing."
   ]
  },
  {
   "cell_type": "code",
   "execution_count": null,
   "metadata": {},
   "outputs": [],
   "source": [
    "!python gradio_demo.py --share"
   ]
  },
  {
   "cell_type": "markdown",
   "metadata": {},
   "source": [
    "---"
   ]
  },
  {
   "cell_type": "markdown",
   "metadata": {},
   "source": [
    "#### Option 2: Automated Processing from a URL\n\nRun the two cells below to automatically download a video from a URL and process it using the command-line script."
   ]
  },
  {
   "cell_type": "code",
   "execution_count": null,
   "metadata": {},
   "outputs": [],
   "source": [
    "# --- You can change this URL to any video you want to process ---\n",
    "video_url = 'https://www.youtube.com/watch?v=YE7VzlLtp-4' # Big Buck Bunny (placeholder)\n",
    "\n",
    "!mkdir -p input_videos\n",
    "!yt-dlp -o 'input_videos/video.mp4' -f 'best[height<=720]' {video_url}\n",
    "\n",
    "video_path = 'input_videos/video.mp4'\n",
    "if os.path.exists(video_path):\n",
    "    print(f'✅ Video downloaded successfully to: {video_path}')\n",
    "else:\n",
    "    print(f'❌ FAILED to download video. The URL may be invalid.')"
   ]
  },
  {
   "cell_type": "code",
   "execution_count": null,
   "metadata": {},
   "outputs": [],
   "source": [
    "if os.path.exists(video_path):\n",
    "    print('Starting automated processing...')\n",
    "    unet_path = './checkpoints/pretrained-weights'\n",
    "    save_folder = './outputs'\n",
    "    \n",
    "    !python inference.py \\\n",
    "        --unet_path {unet_path} \\\n",
    "        --video_path {video_path} \\\n",
    "        --val_save_folder {save_folder} \\\n",
    "        --guidance_scale 3 \\\n",
    "        --num_inference_steps 25\n",
    "    \n",
    "    print(f'\\n--- Processing Complete! ---\\n')\n",
    "    print(f'Check the `{save_folder}` directory for your generated 360° video.')\n",
    "else:\n",
    "    print('Skipping processing because video download failed.')"
   ]
  }
 ],
 "metadata": {
  "kernelspec": {
   "display_name": "Python 3",
   "language": "python",
   "name": "python3"
  },
  "language_info": {
   "codemirror_mode": {
    "name": "ipython",
    "version": 3
   },
   "file_extension": ".py",
   "mimetype": "text/x-python",
   "name": "python",
   "nbconvert_exporter": "python",
   "pygments_lexer": "ipython3",
   "version": "3.10.12"
  }
 },
 "nbformat": 4,
 "nbformat_minor": 4
}