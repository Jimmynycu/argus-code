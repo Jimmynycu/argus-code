{
 "cells": [
  {
   "cell_type": "markdown",
   "metadata": {},
   "source": [
    "# 🚀 Showcase: 2D to 360° Video Generation (Robust Version)"
   ]
  },
  {
   "cell_type": "markdown",
   "metadata": {},
   "source": [
    "This notebook provides a comprehensive and robust showcase for the 'Beyond the Frame' project. It has been redesigned to be more resilient to common errors.\n\n### **Instructions**\n\n1.  **Read Each Step Carefully:** Follow the instructions in the markdown cells. Do not skip steps.\n2.  **GPU Runtime:** Ensure your runtime is set to use a GPU (`Runtime` > `Change runtime type` > `T4 GPU`).\n3.  **Run Cells in Order:** Execute each cell from top to bottom."
   ]
  },
  {
   "cell_type": "markdown",
   "metadata": {},
   "source": [
    "### **Step 0: Factory Reset (Optional but Recommended)**\n\nIf you have run this notebook before, running the cell below will delete the old `argus-code` directory. This prevents pathing conflicts and ensures a clean setup. It's highly recommended to run this if you are re-running the notebook."
   ]
  },
  {
   "cell_type": "code",
   "execution_count": null,
   "metadata": {},
   "outputs": [],
   "source": [
    "print('Cleaning up previous runs...')\n",
    "!rm -rf argus-code\n",
    "print('Cleanup complete.')"
   ]
  },
  {
   "cell_type": "markdown",
   "metadata": {},
   "source": [
    "### **Step 1: Install Conda & Restart Kernel**\n\n⚠️ **CRITICAL STEP** ⚠️\n\nRunning the cell below will install `conda` and **automatically restart the Colab kernel.** This is expected and necessary.\n\n**After the kernel restarts, you must continue running the cells from Step 2.**"
   ]
  },
  {
   "cell_type": "code",
   "execution_count": null,
   "metadata": {},
   "outputs": [],
   "source": [
    "!pip install -q condacolab\n",
    "import condacolab\n",
    "condacolab.install()"
   ]
  },
  {
   "cell_type": "markdown",
   "metadata": {},
   "source": [
    "--- \n",
    "### **Step 2: Full Setup (Run This After Kernel Restart)**\n\n**IMPORTANT:** Run this single cell *after* the kernel has restarted from Step 1. \n\nThis cell will:\n1.  Clone the project repository.\n2.  Install all dependencies in the correct order.\n3.  Download all required AI models.\n4.  Verify that all downloads and files are in the correct place."
   ]
  },
  {
   "cell_type": "code",
   "execution_count": null,
   "metadata": {},
   "outputs": [],
   "source": [
    "import os\n",
    "\n",
    "print('Cloning repository...')\n",
    "!git clone --recurse-submodules https://github.com/Red-Fairy/argus-code\n",
    "os.chdir('argus-code')\n",
    "\n",
    "print('✅ Repository cloned.')\n",
    "\n",
    "print('\\nInstalling dependencies...')\n",
    "# Install core conda packages first\n",
    "!conda install -y -c pytorch -c nvidia faiss-gpu=1.8.0 cython\n",
    "\n",
    "# Install pip packages\n",
    "!pip install -q -r requirements.txt\n",
    "!pip install -q yt-dlp gdown\n",
    "\n",
    "!git clone https://github.com/jenicek/asmk\n",
    "%cd asmk/cython/\n",
    "!cythonize *.pyx\n",
    "%cd ..\n",
    "!pip install .\n",
    "%cd ..\n",
    "print('✅ Dependencies installed.')\n",
    "\n",
    "print('\\nDownloading pre-trained models...')\n",
    "!mkdir -p checkpoints\n",
    "!gdown --id 1mZpViQY2yvwav-CcxdsQouYu8t52b25G -O checkpoints/pretrained-weights.zip\n",
    "\n",
    "!mkdir -p mega-sam/Depth-Anything/checkpoints\n",
    "!wget -q https://huggingface.co/spaces/LiheYoung/Depth-Anything/resolve/main/checkpoints/depth_anything_vitl14.pth -O mega-sam/Depth-Anything/checkpoints/depth_anything_vitl14.pth\n",
    "\n",
    "!mkdir -p mega-sam/cvd_opt\n",
    "!gdown --id 1sWDsfuZ3Up38EUQt7-JDTT1HcGHuJgvT -O mega-sam/cvd_opt/raft-things.pth\n",
    "print('✅ Models downloaded.')\n",
    "\n",
    "print('\\nVerifying files...')\n",
    "!unzip -q checkpoints/pretrained-weights.zip -d checkpoints/\n",
    "\n",
    "files_to_check = [\n",
    "    'checkpoints/pretrained-weights/unet/diffusion_pytorch_model.safetensors',\n",
    "    'mega-sam/Depth-Anything/checkpoints/depth_anything_vitl14.pth',\n",
    "    'mega-sam/cvd_opt/raft-things.pth'\n",
    "]\n",
    "\n",
    "all_files_exist = True\n",
    "for f in files_to_check:\n",
    "    if not os.path.exists(f):\n",
    "        print(f'❌ VERIFICATION FAILED: Could not find {f}. The download or unzip may have failed.')\n",
    "        all_files_exist = False\n",
    "\n",
    "if all_files_exist:\n",
    "    print('✅ All files verified successfully!')\n",
    "    print('\\n--- SETUP COMPLETE ---')\n",
    "else:\n",
    "    print('\\n--- SETUP FAILED: Please review the errors above. ---')"
   ]
  },
  {
   "cell_type": "markdown",
   "metadata": {},
   "source": [
    "### **Step 3: Choose Your Demo**\n\n**Important:** Only run the cells for the option you want to use."
   ]
  },
  {
   "cell_type": "markdown",
   "metadata": {},
   "source": [
    "---"
   ]
  },
  {
   "cell_type": "markdown",
   "metadata": {},
   "source": [
    "### ⚠️ **A Note on Resources** ⚠️\n\nVideo generation is **extremely resource-intensive**. The free T4 GPU provided by Colab has limited memory.\n\n*   **Out of Memory Errors:** If you try to process a long or high-resolution video, you will likely encounter an 'Out of Memory' (OOM) error. \n*   **Recommendation:** For your first run, use a very short video (e.g., 5-10 seconds) to ensure the entire pipeline works. Once confirmed, you can experiment with longer videos, but be aware of the hardware limitations."
   ]
  },
  {
   "cell_type": "markdown",
   "metadata": {},
   "source": [
    "---"
   ]
  },
  {
   "cell_type": "markdown",
   "metadata": {},
   "source": [
    "#### Option 1: Interactive Demo (Gradio Web UI)\n\nRun the cell below to launch a Gradio web interface. A public URL will be generated. Click it to open the demo in a new tab, where you can upload your own video for processing."
   ]
  },
  {
   "cell_type": "code",
   "execution_count": null,
   "metadata": {},
   "outputs": [],
   "source": [
    "!python gradio_demo.py --share"
   ]
  },
  {
   "cell_type": "markdown",
   "metadata": {},
   "source": [
    "---"
   ]
  },
  {
   "cell_type": "markdown",
   "metadata": {},
   "source": [
    "#### Option 2: Automated Processing from a URL\n\nRun the two cells below to automatically download a video from a URL and process it using the command-line script."
   ]
  },
  {
   "cell_type": "code",
   "execution_count": null,
   "metadata": {},
   "outputs": [],
   "source": [
    "# --- You can change this URL to any video you want to process ---\n",
    "video_url = 'https://www.youtube.com/watch?v=YE7VzlLtp-4' # Big Buck Bunny (placeholder)\n",
    "\n",
    "!mkdir -p input_videos\n",
    "!yt-dlp -o 'input_videos/video.mp4' -f 'best[height<=720]' {video_url}\n",
    "\n",
    "video_path = 'input_videos/video.mp4'\n",
    "if os.path.exists(video_path):\n",
    "    print(f'✅ Video downloaded successfully to: {video_path}')\n",
    "else:\n",
    "    print(f'❌ FAILED to download video. The URL may be invalid.')"
   ]
  },
  {
   "cell_type": "code",
   "execution_count": null,
   "metadata": {},
   "outputs": [],
   "source": [
    "if os.path.exists(video_path):\n",
    "    print('Starting automated processing...')\n",
    "    unet_path = './checkpoints/pretrained-weights'\n",
    "    save_folder = './outputs'\n",
    "    \n",
    "    !python inference.py \\\n",
    "        --unet_path {unet_path} \\\n",
    "        --video_path {video_path} \\\n",
    "        --val_save_folder {save_folder} \\\n",
    "        --guidance_scale 3 \\\n",
    "        --num_inference_steps 25\n",
    "    \n",
    "    print(f'\\n--- Processing Complete! ---\\n')\n",
    "    print(f'Check the `{save_folder}` directory for your generated 360° video.')\n",
    "else:\n",
    "    print('Skipping processing because video download failed.')"
   ]
  }
 ],
 "metadata": {
  "kernelspec": {
   "display_name": "Python 3",
   "language": "python",
   "name": "python3"
  },
  "language_info": {
   "codemirror_mode": {
    "name": "ipython",
    "version": 3
   },
   "file_extension": ".py",
   "mimetype": "text/x-python",
   "name": "python",
   "nbconvert_exporter": "python",
   "pygments_lexer": "ipython3",
   "version": "3.10.12"
  }
 },
 "nbformat": 4,
 "nbformat_minor": 4
}