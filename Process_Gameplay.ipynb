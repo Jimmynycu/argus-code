{
 "cells": [
  {
   "cell_type": "markdown",
   "metadata": {},
   "source": [
    "# 🚀 Automated 2D to 360° Video Processing"
   ]
  },
  {
   "cell_type": "markdown",
   "metadata": {},
   "source": [
    "This notebook automates the process of converting a standard 2D video into a 360° panoramic video using the 'Beyond the Frame' model. It handles all setup, downloads a video from a URL, and runs the command-line inference.\n",
    "\n",
    "**Instructions:**\n",
    "1. Make sure your runtime is set to use a GPU (`Runtime` > `Change runtime type` > `T4 GPU`).\n",
    "2. **(Optional)** Change the `video_url` in the second code cell to your desired video (e.g., from YouTube).\n",
    "3. Run each cell in order from top to bottom."
   ]
  },
  {
   "cell_type": "markdown",
   "metadata": {},
   "source": [
    "### Step 1: Clone the Repository and Install Dependencies"
   ]
  },
  {
   "cell_type": "code",
   "execution_count": null,
   "metadata": {},
   "outputs": [],
   "source": [
    "!git clone --recurse-submodules https://github.com/Red-Fairy/argus-code\n",
    "%cd argus-code\n",
    "\n",
    "print('Installing dependencies...')\n",
    "# Install faiss-gpu first, as it's sensitive to installation order.\n",
    "!pip install -q faiss-gpu\n",
    "!pip install -q -r requirements.txt\n",
    "!pip install -q yt-dlp\n",
    "\n",
    "print('Cloning and installing asmk...')\n",
    "!git clone https://github.com/jenicek/asmk\n",
    "%cd asmk/cython/\n",
    "!cythonize *.pyx\n",
    "%cd ..\n",
    "!pip install .\n",
    "%cd .."
   ]
  },
  {
   "cell_type": "markdown",
   "metadata": {},
   "source": [
    "### Step 2: Download Pre-trained Models"
   ]
  },
  {
   "cell_type": "code",
   "execution_count": null,
   "metadata": {},
   "outputs": [],
   "source": [
    "print('Downloading pre-trained models...')\n",
    "!mkdir -p checkpoints\n",
    "!pip install -q gdown\n",
    "!gdown --id 1mZpViQY2yvwav-CcxdsQouYu8t52b25G -O checkpoints/pretrained-weights.zip\n",
    "!unzip -q checkpoints/pretrained-weights.zip -d checkpoints/\n",
    "\n",
    "!mkdir -p mega-sam/Depth-Anything/checkpoints\n",
    "!wget -q https://huggingface.co/spaces/LiheYoung/Depth-Anything/resolve/main/checkpoints/depth_anything_vitl14.pth -O mega-sam/Depth-Anything/checkpoints/depth_anything_vitl14.pth\n",
    "\n",
    "!mkdir -p mega-sam/cvd_opt\n",
    "!gdown --id 1sWDsfuZ3Up38EUQt7-JDTT1HcGHuJgvT -O mega-sam/cvd_opt/raft-things.pth\n",
    "print('Models downloaded.')"
   ]
  },
  {
   "cell_type": "markdown",
   "metadata": {},
   "source": [
    "### Step 3: Download Gameplay Video"
   ]
  },
  {
   "cell_type": "code",
   "execution_count": null,
   "metadata": {},
   "outputs": [],
   "source": [
    "# --- IMPORTANT --- \n",
    "# You can change this URL to any video you want to process.\n",
    "# For example, a YouTube link to GTA or Minecraft gameplay.\n",
    "video_url = 'https://www.youtube.com/watch?v=YE7VzlLtp-4' # Big Buck Bunny\n",
    "\n",
    "!mkdir -p input_videos\n",
    "!yt-dlp -o 'input_videos/gameplay.mp4' -f 'best[height<=720]' {video_url}\n",
    "\n",
    "video_path = 'input_videos/gameplay.mp4'\n",
    "print(f'Video downloaded to: {video_path}')"
   ]
  },
  {
   "cell_type": "markdown",
   "metadata": {},
   "source": [
    "### Step 4: Run Inference and Generate 360° Video\n",
    "This step runs the main processing script. It will take the downloaded video as input and generate the 360° video in the `outputs/` directory."
   ]
  },
  {
   "cell_type": "code",
   "execution_count": null,
   "metadata": {},
   "outputs": [],
   "source": [
    "unet_path = './checkpoints/pretrained-weights'\n",
    "save_folder = './outputs'\n",
    "guidance_scale = 3\n",
    "inference_steps = 25\n",
    "\n",
    "!python inference.py \\\n",
    "    --unet_path {unet_path} \\\n",
    "    --video_path {video_path} \\\n",
    "    --val_save_folder {save_folder} \\\n",
    "    --guidance_scale {guidance_scale} \\\n",
    "    --num_inference_steps {inference_steps}\n",
    "\n",
    "print(f'\\n--- Processing Complete! ---\\n')\n",
    "print(f'Check the `{save_folder}` directory for your generated 360° video.')"
   ]
  }
 ],
 "metadata": {
  "kernelspec": {
   "display_name": "Python 3",
   "language": "python",
   "name": "python3"
  },
  "language_info": {
   "codemirror_mode": {
    "name": "ipython",
    "version": 3
   },
   "file_extension": ".py",
   "mimetype": "text/x-python",
   "name": "python",
   "nbconvert_exporter": "python",
   "pygments_lexer": "ipython3",
   "version": "3.10.12"
  }
 },
 "nbformat": 4,
 "nbformat_minor": 4
}