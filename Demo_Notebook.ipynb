{
 "cells": [
  {
   "cell_type": "markdown",
   "metadata": {},
   "source": [
    "# 🚀 Demo: Beyond the Frame - 360° Panoramic Video Generation"
   ]
  },
  {
   "cell_type": "markdown",
   "metadata": {},
   "source": [
    "Welcome to the interactive demo for the ICCV 2025 paper, **Beyond the Frame: Generating 360° Panoramic Videos from Perspective Videos**. This notebook will guide you through setting up the environment, downloading the necessary models, and launching a Gradio web UI to generate your own 360° videos.\n",
    "\n",
    "**Instructions:**\n",
    "1. Make sure your runtime is set to use a GPU (`Runtime` > `Change runtime type` > `T4 GPU`).\n",
    "2. Run each cell in order from top to bottom."
   ]
  },
  {
   "cell_type": "markdown",
   "metadata": {},
   "source": [
    "### Step 1: Clone the Repository\n",
    "\n",
    "First, we clone the project repository from GitHub. We use `--recurse-submodules` to ensure that all the necessary dependencies, like `MASt3R` and `MegaSaM`, are also downloaded."
   ]
  },
  {
   "cell_type": "code",
   "execution_count": null,
   "metadata": {},
   "outputs": [],
   "source": [
    "!git clone --recurse-submodules https://github.com/Red-Fairy/argus-code\n",
    "%cd argus-code"
   ]
  },
  {
   "cell_type": "markdown",
   "metadata": {},
   "source": [
    "### Step 2: Install Dependencies\n",
    "\n",
    "Next, we'll install all the required Python packages. The original project uses separate environments, but for simplicity in Colab, we will install everything in a single environment. We'll handle special cases like `faiss-gpu` and `asmk` as recommended in the documentation."
   ]
  },
  {
   "cell_type": "code",
   "execution_count": null,
   "metadata": {},
   "outputs": [],
   "source": [
    "# Install base requirements\n",
    "!pip install -q -r requirements.txt\n",
    "\n",
    "# Install faiss-gpu for camera trajectory prediction\n",
    "# In Colab, we use pip to install faiss-gpu. The library is pre-compiled for the Colab environment.\n",
    "!pip install -q faiss-gpu\n",
    "\n",
    "# Install asmk for MASt3R\n",
    "!git clone https://github.com/jenicek/asmk\n",
    "%cd asmk/cython/\n",
    "!cythonize *.pyx\n",
    "%cd ..\n",
    "!pip install .\n",
    "%cd .."
   ]
  },
  {
   "cell_type": "markdown",
   "metadata": {},
   "source": [
    "### Step 3: Download Pre-trained Models\n",
    "\n",
    "This project relies on several pre-trained models. We need to download them and place them in the correct directories for the demo to work.\n",
    "\n",
    "This includes:\n",
    "- The main **360° Video Generation** model.\n",
    "- Models for camera trajectory prediction (**DepthAnything** and **RAFT** for MegaSaM)."
   ]
  },
  {
   "cell_type": "code",
   "execution_count": null,
   "metadata": {},
   "outputs": [],
   "source": [
    "# Download the main 360° generation model\n",
    "!mkdir -p checkpoints\n",
    "# Note: The gdown package is a reliable way to download from Google Drive.\n",
    "!pip install -q gdown\n",
    "!gdown --id 1mZpViQY2yvwav-CcxdsQouYu8t52b25G -O checkpoints/pretrained-weights.zip\n",
    "!unzip -q checkpoints/pretrained-weights.zip -d checkpoints/\n",
    "\n",
    "# Download models for MegaSaM\n",
    "!mkdir -p mega-sam/Depth-Anything/checkpoints\n",
    "!wget -q https://huggingface.co/spaces/LiheYoung/Depth-Anything/resolve/main/checkpoints/depth_anything_vitl14.pth -O mega-sam/Depth-Anything/checkpoints/depth_anything_vitl14.pth\n",
    "\n",
    "!mkdir -p mega-sam/cvd_opt\n",
    "!gdown --id 1sWDsfuZ3Up38EUQt7-JDTT1HcGHuJgvT -O mega-sam/cvd_opt/raft-things.pth"
   ]
  },
  {
   "cell_type": "markdown",
   "metadata": {},
   "source": [
    "### Step 4: Run the Interactive Demo!\n",
    "\n",
    "Now everything is set up! The final step is to launch the Gradio interactive demo. \n",
    "\n",
    "After running the cell below, a public URL will be generated. Click on it to open the web interface in a new tab. You can then upload a video and see the 360° generation in action."
   ]
  },
  {
   "cell_type": "code",
   "execution_count": null,
   "metadata": {},
   "outputs": [],
   "source": [
    "!python gradio_demo.py --share"
   ]
  }
 ],
 "metadata": {
  "kernelspec": {
   "display_name": "Python 3",
   "language": "python",
   "name": "python3"
  },
  "language_info": {
   "codemirror_mode": {
    "name": "ipython",
    "version": 3
   },
   "file_extension": ".py",
   "mimetype": "text/x-python",
   "name": "python",
   "nbconvert_exporter": "python",
   "pygments_lexer": "ipython3",
   "version": "3.10.12"
  }
 },
 "nbformat": 4,
 "nbformat_minor": 4
}